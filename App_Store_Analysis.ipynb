{
 "cells": [
  {
   "cell_type": "markdown",
   "id": "7c64c7b6",
   "metadata": {},
   "source": [
    "## 📱 Google App Store App Analysis\n",
    "\n",
    "*This project analyzes Google Play Store data to find trends in `app installs`,\n",
    "`ratings`, `content ratings`, and monetization methods like `ads`,` in-app purchases`, etc.*  \n",
    "**The goal is to extract useful insights about user preferences and app success factors.**\n"
   ]
  },
  {
   "cell_type": "markdown",
   "id": "1fb19a1c",
   "metadata": {},
   "source": [
    "### **Data Loading & Cleaning**\n",
    "*Here, we import the dataset and clean missing or invalid data (like `ratings` or `installs`).* *We also convert sizes, formats, and types to be analysis-ready.*\n"
   ]
  },
  {
   "cell_type": "markdown",
   "id": "b06fc8ba",
   "metadata": {},
   "source": [
    "**Importing Libraries and Reading Dataset**"
   ]
  },
  {
   "cell_type": "code",
   "execution_count": 2,
   "id": "c32100bc",
   "metadata": {},
   "outputs": [],
   "source": [
    "import numpy as np\n",
    "import pandas as pd\n",
    "import matplotlib.pyplot as plt\n",
    "df = pd.read_csv('app_data(2010-2021).csv')"
   ]
  },
  {
   "cell_type": "markdown",
   "id": "23f59a72",
   "metadata": {},
   "source": [
    "**Shape, Head, Info**"
   ]
  },
  {
   "cell_type": "code",
   "execution_count": 3,
   "id": "1cf1c756",
   "metadata": {},
   "outputs": [
    {
     "data": {
      "text/plain": [
       "(799999, 24)"
      ]
     },
     "execution_count": 3,
     "metadata": {},
     "output_type": "execute_result"
    }
   ],
   "source": [
    "df.shape"
   ]
  },
  {
   "cell_type": "code",
   "execution_count": 4,
   "id": "9cb27665",
   "metadata": {},
   "outputs": [
    {
     "data": {
      "text/html": [
       "<div>\n",
       "<style scoped>\n",
       "    .dataframe tbody tr th:only-of-type {\n",
       "        vertical-align: middle;\n",
       "    }\n",
       "\n",
       "    .dataframe tbody tr th {\n",
       "        vertical-align: top;\n",
       "    }\n",
       "\n",
       "    .dataframe thead th {\n",
       "        text-align: right;\n",
       "    }\n",
       "</style>\n",
       "<table border=\"1\" class=\"dataframe\">\n",
       "  <thead>\n",
       "    <tr style=\"text-align: right;\">\n",
       "      <th></th>\n",
       "      <th>App Name</th>\n",
       "      <th>App Id</th>\n",
       "      <th>Category</th>\n",
       "      <th>Rating</th>\n",
       "      <th>Rating Count</th>\n",
       "      <th>Installs</th>\n",
       "      <th>Minimum Installs</th>\n",
       "      <th>Maximum Installs</th>\n",
       "      <th>Free</th>\n",
       "      <th>Price</th>\n",
       "      <th>...</th>\n",
       "      <th>Developer Website</th>\n",
       "      <th>Developer Email</th>\n",
       "      <th>Released</th>\n",
       "      <th>Last Updated</th>\n",
       "      <th>Content Rating</th>\n",
       "      <th>Privacy Policy</th>\n",
       "      <th>Ad Supported</th>\n",
       "      <th>In App Purchases</th>\n",
       "      <th>Editors Choice</th>\n",
       "      <th>Scraped Time</th>\n",
       "    </tr>\n",
       "  </thead>\n",
       "  <tbody>\n",
       "    <tr>\n",
       "      <th>0</th>\n",
       "      <td>Gakondo</td>\n",
       "      <td>com.ishakwe.gakondo</td>\n",
       "      <td>Adventure</td>\n",
       "      <td>0.0</td>\n",
       "      <td>0.0</td>\n",
       "      <td>10+</td>\n",
       "      <td>10.0</td>\n",
       "      <td>15</td>\n",
       "      <td>True</td>\n",
       "      <td>0.0</td>\n",
       "      <td>...</td>\n",
       "      <td>https://beniyizibyose.tk/#/</td>\n",
       "      <td>jean21101999@gmail.com</td>\n",
       "      <td>Feb 26, 2020</td>\n",
       "      <td>Feb 26, 2020</td>\n",
       "      <td>Everyone</td>\n",
       "      <td>https://beniyizibyose.tk/projects/</td>\n",
       "      <td>False</td>\n",
       "      <td>False</td>\n",
       "      <td>False</td>\n",
       "      <td>2021-06-15 20:19:35</td>\n",
       "    </tr>\n",
       "    <tr>\n",
       "      <th>1</th>\n",
       "      <td>Ampere Battery Info</td>\n",
       "      <td>com.webserveis.batteryinfo</td>\n",
       "      <td>Tools</td>\n",
       "      <td>4.4</td>\n",
       "      <td>64.0</td>\n",
       "      <td>5,000+</td>\n",
       "      <td>5000.0</td>\n",
       "      <td>7662</td>\n",
       "      <td>True</td>\n",
       "      <td>0.0</td>\n",
       "      <td>...</td>\n",
       "      <td>https://webserveis.netlify.app/</td>\n",
       "      <td>webserveis@gmail.com</td>\n",
       "      <td>May 21, 2020</td>\n",
       "      <td>May 06, 2021</td>\n",
       "      <td>Everyone</td>\n",
       "      <td>https://dev4phones.wordpress.com/licencia-de-uso/</td>\n",
       "      <td>True</td>\n",
       "      <td>False</td>\n",
       "      <td>False</td>\n",
       "      <td>2021-06-15 20:19:35</td>\n",
       "    </tr>\n",
       "    <tr>\n",
       "      <th>2</th>\n",
       "      <td>Vibook</td>\n",
       "      <td>com.doantiepvien.crm</td>\n",
       "      <td>Productivity</td>\n",
       "      <td>0.0</td>\n",
       "      <td>0.0</td>\n",
       "      <td>50+</td>\n",
       "      <td>50.0</td>\n",
       "      <td>58</td>\n",
       "      <td>True</td>\n",
       "      <td>0.0</td>\n",
       "      <td>...</td>\n",
       "      <td>NaN</td>\n",
       "      <td>vnacrewit@gmail.com</td>\n",
       "      <td>Aug 9, 2019</td>\n",
       "      <td>Aug 19, 2019</td>\n",
       "      <td>Everyone</td>\n",
       "      <td>https://www.vietnamairlines.com/vn/en/terms-an...</td>\n",
       "      <td>False</td>\n",
       "      <td>False</td>\n",
       "      <td>False</td>\n",
       "      <td>2021-06-15 20:19:35</td>\n",
       "    </tr>\n",
       "    <tr>\n",
       "      <th>3</th>\n",
       "      <td>Smart City Trichy Public Service Vehicles 17UC...</td>\n",
       "      <td>cst.stJoseph.ug17ucs548</td>\n",
       "      <td>Communication</td>\n",
       "      <td>5.0</td>\n",
       "      <td>5.0</td>\n",
       "      <td>10+</td>\n",
       "      <td>10.0</td>\n",
       "      <td>19</td>\n",
       "      <td>True</td>\n",
       "      <td>0.0</td>\n",
       "      <td>...</td>\n",
       "      <td>http://www.climatesmarttech.com/</td>\n",
       "      <td>climatesmarttech2@gmail.com</td>\n",
       "      <td>Sep 10, 2018</td>\n",
       "      <td>Oct 13, 2018</td>\n",
       "      <td>Everyone</td>\n",
       "      <td>NaN</td>\n",
       "      <td>True</td>\n",
       "      <td>False</td>\n",
       "      <td>False</td>\n",
       "      <td>2021-06-15 20:19:35</td>\n",
       "    </tr>\n",
       "    <tr>\n",
       "      <th>4</th>\n",
       "      <td>GROW.me</td>\n",
       "      <td>com.horodyski.grower</td>\n",
       "      <td>Tools</td>\n",
       "      <td>0.0</td>\n",
       "      <td>0.0</td>\n",
       "      <td>100+</td>\n",
       "      <td>100.0</td>\n",
       "      <td>478</td>\n",
       "      <td>True</td>\n",
       "      <td>0.0</td>\n",
       "      <td>...</td>\n",
       "      <td>http://www.horodyski.com.pl</td>\n",
       "      <td>rmilekhorodyski@gmail.com</td>\n",
       "      <td>Feb 21, 2020</td>\n",
       "      <td>Nov 12, 2018</td>\n",
       "      <td>Everyone</td>\n",
       "      <td>http://www.horodyski.com.pl</td>\n",
       "      <td>False</td>\n",
       "      <td>False</td>\n",
       "      <td>False</td>\n",
       "      <td>2021-06-15 20:19:35</td>\n",
       "    </tr>\n",
       "  </tbody>\n",
       "</table>\n",
       "<p>5 rows × 24 columns</p>\n",
       "</div>"
      ],
      "text/plain": [
       "                                            App Name  \\\n",
       "0                                            Gakondo   \n",
       "1                                Ampere Battery Info   \n",
       "2                                             Vibook   \n",
       "3  Smart City Trichy Public Service Vehicles 17UC...   \n",
       "4                                            GROW.me   \n",
       "\n",
       "                       App Id       Category  Rating  Rating Count Installs  \\\n",
       "0         com.ishakwe.gakondo      Adventure     0.0           0.0      10+   \n",
       "1  com.webserveis.batteryinfo          Tools     4.4          64.0   5,000+   \n",
       "2        com.doantiepvien.crm   Productivity     0.0           0.0      50+   \n",
       "3     cst.stJoseph.ug17ucs548  Communication     5.0           5.0      10+   \n",
       "4        com.horodyski.grower          Tools     0.0           0.0     100+   \n",
       "\n",
       "   Minimum Installs  Maximum Installs  Free  Price  ...  \\\n",
       "0              10.0                15  True    0.0  ...   \n",
       "1            5000.0              7662  True    0.0  ...   \n",
       "2              50.0                58  True    0.0  ...   \n",
       "3              10.0                19  True    0.0  ...   \n",
       "4             100.0               478  True    0.0  ...   \n",
       "\n",
       "                  Developer Website              Developer Email  \\\n",
       "0       https://beniyizibyose.tk/#/       jean21101999@gmail.com   \n",
       "1   https://webserveis.netlify.app/         webserveis@gmail.com   \n",
       "2                               NaN          vnacrewit@gmail.com   \n",
       "3  http://www.climatesmarttech.com/  climatesmarttech2@gmail.com   \n",
       "4       http://www.horodyski.com.pl    rmilekhorodyski@gmail.com   \n",
       "\n",
       "       Released  Last Updated Content Rating  \\\n",
       "0  Feb 26, 2020  Feb 26, 2020       Everyone   \n",
       "1  May 21, 2020  May 06, 2021       Everyone   \n",
       "2   Aug 9, 2019  Aug 19, 2019       Everyone   \n",
       "3  Sep 10, 2018  Oct 13, 2018       Everyone   \n",
       "4  Feb 21, 2020  Nov 12, 2018       Everyone   \n",
       "\n",
       "                                      Privacy Policy Ad Supported  \\\n",
       "0                 https://beniyizibyose.tk/projects/        False   \n",
       "1  https://dev4phones.wordpress.com/licencia-de-uso/         True   \n",
       "2  https://www.vietnamairlines.com/vn/en/terms-an...        False   \n",
       "3                                                NaN         True   \n",
       "4                        http://www.horodyski.com.pl        False   \n",
       "\n",
       "  In App Purchases Editors Choice         Scraped Time  \n",
       "0            False          False  2021-06-15 20:19:35  \n",
       "1            False          False  2021-06-15 20:19:35  \n",
       "2            False          False  2021-06-15 20:19:35  \n",
       "3            False          False  2021-06-15 20:19:35  \n",
       "4            False          False  2021-06-15 20:19:35  \n",
       "\n",
       "[5 rows x 24 columns]"
      ]
     },
     "execution_count": 4,
     "metadata": {},
     "output_type": "execute_result"
    }
   ],
   "source": [
    "df.head()"
   ]
  },
  {
   "cell_type": "code",
   "execution_count": 5,
   "id": "18812837",
   "metadata": {},
   "outputs": [
    {
     "name": "stdout",
     "output_type": "stream",
     "text": [
      "<class 'pandas.core.frame.DataFrame'>\n",
      "RangeIndex: 799999 entries, 0 to 799998\n",
      "Data columns (total 24 columns):\n",
      " #   Column             Non-Null Count   Dtype  \n",
      "---  ------             --------------   -----  \n",
      " 0   App Name           799998 non-null  object \n",
      " 1   App Id             799999 non-null  object \n",
      " 2   Category           799999 non-null  object \n",
      " 3   Rating             792086 non-null  float64\n",
      " 4   Rating Count       792086 non-null  float64\n",
      " 5   Installs           799963 non-null  object \n",
      " 6   Minimum Installs   799963 non-null  float64\n",
      " 7   Maximum Installs   799999 non-null  int64  \n",
      " 8   Free               799999 non-null  bool   \n",
      " 9   Price              799999 non-null  float64\n",
      " 10  Currency           799947 non-null  object \n",
      " 11  Size               799932 non-null  object \n",
      " 12  Minimum Android    797783 non-null  object \n",
      " 13  Developer Id       799991 non-null  object \n",
      " 14  Developer Website  536705 non-null  object \n",
      " 15  Developer Email    799992 non-null  object \n",
      " 16  Released           775559 non-null  object \n",
      " 17  Last Updated       799999 non-null  object \n",
      " 18  Content Rating     799999 non-null  object \n",
      " 19  Privacy Policy     654608 non-null  object \n",
      " 20  Ad Supported       799999 non-null  bool   \n",
      " 21  In App Purchases   799999 non-null  bool   \n",
      " 22  Editors Choice     799999 non-null  bool   \n",
      " 23  Scraped Time       799999 non-null  object \n",
      "dtypes: bool(4), float64(4), int64(1), object(15)\n",
      "memory usage: 125.1+ MB\n"
     ]
    }
   ],
   "source": [
    "df.info()"
   ]
  },
  {
   "cell_type": "markdown",
   "id": "f20816ee",
   "metadata": {},
   "source": [
    "**Cleaning columns names**"
   ]
  },
  {
   "cell_type": "code",
   "execution_count": 6,
   "id": "f147f1d0",
   "metadata": {},
   "outputs": [
    {
     "data": {
      "text/plain": [
       "Index(['app_name', 'app_id', 'category', 'rating', 'rating_count', 'installs',\n",
       "       'minimum_installs', 'maximum_installs', 'free', 'price', 'currency',\n",
       "       'size', 'minimum_android', 'developer_id', 'developer_website',\n",
       "       'developer_email', 'released', 'last_updated', 'content_rating',\n",
       "       'privacy_policy', 'ad_supported', 'in_app_purchases', 'editors_choice',\n",
       "       'scraped_time'],\n",
       "      dtype='object')"
      ]
     },
     "execution_count": 6,
     "metadata": {},
     "output_type": "execute_result"
    }
   ],
   "source": [
    "df.columns = df.columns.str.lower()  # Convert to lowercase\n",
    "df.columns = df.columns.str.strip() # Remove leading and trailing spaces\n",
    "df.columns = df.columns.str.replace(' ', '_')  # Replace spaces with underscores\n",
    "df.columns"
   ]
  },
  {
   "cell_type": "markdown",
   "id": "63c25743",
   "metadata": {},
   "source": [
    "**Removing Unwanted Columns**\n"
   ]
  },
  {
   "cell_type": "code",
   "execution_count": 7,
   "id": "169cf6cb",
   "metadata": {},
   "outputs": [],
   "source": [
    "df.drop(columns=['app_id','developer_id','developer_website','developer_email','privacy_policy',\n",
    "                 'minimum_installs','installs','scraped_time','minimum_android'], inplace=True)"
   ]
  },
  {
   "cell_type": "markdown",
   "id": "782eb407",
   "metadata": {},
   "source": [
    "**Renaming Columns**"
   ]
  },
  {
   "cell_type": "code",
   "execution_count": 99,
   "id": "c9a2239f",
   "metadata": {},
   "outputs": [],
   "source": [
    "df.rename(columns={\n",
    "    'free': 'is_free',\n",
    "    'size': 'app_size',\n",
    "    'released': 'release_date',\n",
    "    'last_updated': 'last_updated_date',\n",
    "    'content_rating': 'age_limit'\n",
    "}, inplace=True)\n"
   ]
  },
  {
   "cell_type": "markdown",
   "id": "650ecba6",
   "metadata": {},
   "source": [
    "**Handling Duplicate Values**"
   ]
  },
  {
   "cell_type": "code",
   "execution_count": 9,
   "id": "99f0c464",
   "metadata": {},
   "outputs": [
    {
     "data": {
      "text/plain": [
       "1"
      ]
     },
     "execution_count": 9,
     "metadata": {},
     "output_type": "execute_result"
    }
   ],
   "source": [
    "df.duplicated().sum() # Counting duplicates"
   ]
  },
  {
   "cell_type": "code",
   "execution_count": 10,
   "id": "5664e2c3",
   "metadata": {},
   "outputs": [],
   "source": [
    "df = df.drop_duplicates() # Drop duplicates"
   ]
  },
  {
   "cell_type": "markdown",
   "id": "75f290b9",
   "metadata": {},
   "source": [
    "**Checking for Missing Values**"
   ]
  },
  {
   "cell_type": "code",
   "execution_count": 11,
   "id": "ca442cb7",
   "metadata": {},
   "outputs": [
    {
     "data": {
      "text/plain": [
       "app_name                 1\n",
       "category                 0\n",
       "rating                7913\n",
       "rating_count          7913\n",
       "maximum_installs         0\n",
       "is_free                  0\n",
       "price                    0\n",
       "currency                52\n",
       "app_size                67\n",
       "release_date         24440\n",
       "last_updated_date        0\n",
       "content_rating           0\n",
       "ad_supported             0\n",
       "in_app_purchases         0\n",
       "editors_choice           0\n",
       "dtype: int64"
      ]
     },
     "execution_count": 11,
     "metadata": {},
     "output_type": "execute_result"
    }
   ],
   "source": [
    "df.isnull().sum()  # Counting Missing Values"
   ]
  },
  {
   "cell_type": "markdown",
   "id": "dd22ca71",
   "metadata": {},
   "source": [
    "**Handling Missing Values accourding to the columns**"
   ]
  },
  {
   "cell_type": "markdown",
   "id": "1f4e4526",
   "metadata": {},
   "source": [
    "- `app_name` Column"
   ]
  },
  {
   "cell_type": "code",
   "execution_count": 12,
   "id": "3e848793",
   "metadata": {},
   "outputs": [
    {
     "data": {
      "text/plain": [
       "Index([45686], dtype='int64')"
      ]
     },
     "execution_count": 12,
     "metadata": {},
     "output_type": "execute_result"
    }
   ],
   "source": [
    "df[df['app_name'].isnull()].index # checking index number where `app_name` is null"
   ]
  },
  {
   "cell_type": "code",
   "execution_count": 13,
   "id": "3926c759",
   "metadata": {},
   "outputs": [],
   "source": [
    "df.drop(45686,inplace=True) # deleting null row where index number is [45686]"
   ]
  },
  {
   "cell_type": "markdown",
   "id": "05b1520a",
   "metadata": {},
   "source": [
    "- `rating` Column"
   ]
  },
  {
   "cell_type": "code",
   "execution_count": 14,
   "id": "73ba84a9",
   "metadata": {},
   "outputs": [
    {
     "name": "stderr",
     "output_type": "stream",
     "text": [
      "C:\\Users\\vanda\\AppData\\Local\\Temp\\ipykernel_7316\\160404643.py:1: FutureWarning: A value is trying to be set on a copy of a DataFrame or Series through chained assignment using an inplace method.\n",
      "The behavior will change in pandas 3.0. This inplace method will never work because the intermediate object on which we are setting values always behaves as a copy.\n",
      "\n",
      "For example, when doing 'df[col].method(value, inplace=True)', try using 'df.method({col: value}, inplace=True)' or df[col] = df[col].method(value) instead, to perform the operation inplace on the original object.\n",
      "\n",
      "\n",
      "  df['rating'].fillna(df['rating'].mean(),inplace=True) # filling null values with average of ratings\n"
     ]
    }
   ],
   "source": [
    "df['rating'].fillna(df['rating'].mean(),inplace=True) # filling null values with average of ratings"
   ]
  },
  {
   "cell_type": "markdown",
   "id": "ff93b6ad",
   "metadata": {},
   "source": [
    "- `rating_count` Column"
   ]
  },
  {
   "cell_type": "code",
   "execution_count": 15,
   "id": "163427ba",
   "metadata": {},
   "outputs": [
    {
     "name": "stderr",
     "output_type": "stream",
     "text": [
      "C:\\Users\\vanda\\AppData\\Local\\Temp\\ipykernel_7316\\231057196.py:1: FutureWarning: A value is trying to be set on a copy of a DataFrame or Series through chained assignment using an inplace method.\n",
      "The behavior will change in pandas 3.0. This inplace method will never work because the intermediate object on which we are setting values always behaves as a copy.\n",
      "\n",
      "For example, when doing 'df[col].method(value, inplace=True)', try using 'df.method({col: value}, inplace=True)' or df[col] = df[col].method(value) instead, to perform the operation inplace on the original object.\n",
      "\n",
      "\n",
      "  df['rating_count'].fillna(0,inplace=True) #filling null values with zero\n"
     ]
    }
   ],
   "source": [
    "df['rating_count'].fillna(0,inplace=True) #filling null values with zero"
   ]
  },
  {
   "cell_type": "markdown",
   "id": "7e6b2da3",
   "metadata": {},
   "source": [
    "- `currency` Column"
   ]
  },
  {
   "cell_type": "code",
   "execution_count": 16,
   "id": "f577d8f6",
   "metadata": {},
   "outputs": [
    {
     "name": "stderr",
     "output_type": "stream",
     "text": [
      "C:\\Users\\vanda\\AppData\\Local\\Temp\\ipykernel_7316\\3653745223.py:1: FutureWarning: A value is trying to be set on a copy of a DataFrame or Series through chained assignment using an inplace method.\n",
      "The behavior will change in pandas 3.0. This inplace method will never work because the intermediate object on which we are setting values always behaves as a copy.\n",
      "\n",
      "For example, when doing 'df[col].method(value, inplace=True)', try using 'df.method({col: value}, inplace=True)' or df[col] = df[col].method(value) instead, to perform the operation inplace on the original object.\n",
      "\n",
      "\n",
      "  df['currency'].fillna(df['currency'].mode()[0],inplace= True) # filling null values with most frequent currency type (mode)\n"
     ]
    }
   ],
   "source": [
    "df['currency'].fillna(df['currency'].mode()[0],inplace= True) # filling null values with most frequent currency type (mode)"
   ]
  },
  {
   "cell_type": "markdown",
   "id": "fa54a894",
   "metadata": {},
   "source": [
    "- `app_size` Column"
   ]
  },
  {
   "cell_type": "code",
   "execution_count": 17,
   "id": "32696366",
   "metadata": {},
   "outputs": [
    {
     "data": {
      "text/plain": [
       "array(['10M', '2.9M', '3.7M', ..., '344M', '232M', '418M'], dtype=object)"
      ]
     },
     "execution_count": 17,
     "metadata": {},
     "output_type": "execute_result"
    }
   ],
   "source": [
    "df['app_size'].unique() # checking unique sizes(MB,GB,Kb)"
   ]
  },
  {
   "cell_type": "code",
   "execution_count": 18,
   "id": "6df6f0df",
   "metadata": {},
   "outputs": [],
   "source": [
    "# creating function to remove(M,G) from last then convert into MB\n",
    "def convert_size(x):\n",
    "    try:\n",
    "        if 'M' in x :\n",
    "            return float(x.replace('M',''))\n",
    "        elif 'G' in x:\n",
    "            return float(x.replace('G',''))*1024 # GB to MB\n",
    "        else:\n",
    "            return 0\n",
    "    except:\n",
    "        return 0\n",
    "    \n",
    "df['app_size_mb'] = df['app_size'].apply(convert_size) # creating new column then applying function\n",
    "df.drop(columns=['app_size'], inplace=True) # dropping old column"
   ]
  },
  {
   "cell_type": "markdown",
   "id": "0be3cd85",
   "metadata": {},
   "source": [
    "- `release_date` Column"
   ]
  },
  {
   "cell_type": "code",
   "execution_count": 19,
   "id": "3b2e9937",
   "metadata": {},
   "outputs": [],
   "source": [
    "df = df.dropna(subset=['release_date']) # dropped null values"
   ]
  },
  {
   "cell_type": "markdown",
   "id": "4bd5589d",
   "metadata": {},
   "source": [
    "**Checking Missing values (if any left)**"
   ]
  },
  {
   "cell_type": "code",
   "execution_count": 20,
   "id": "6531b713",
   "metadata": {},
   "outputs": [
    {
     "data": {
      "text/plain": [
       "app_name             0\n",
       "category             0\n",
       "rating               0\n",
       "rating_count         0\n",
       "maximum_installs     0\n",
       "is_free              0\n",
       "price                0\n",
       "currency             0\n",
       "release_date         0\n",
       "last_updated_date    0\n",
       "content_rating       0\n",
       "ad_supported         0\n",
       "in_app_purchases     0\n",
       "editors_choice       0\n",
       "app_size_mb          0\n",
       "dtype: int64"
      ]
     },
     "execution_count": 20,
     "metadata": {},
     "output_type": "execute_result"
    }
   ],
   "source": [
    "df.isnull().sum()"
   ]
  },
  {
   "cell_type": "markdown",
   "id": "a4842a7b",
   "metadata": {},
   "source": [
    "**Creating & Converting Columns**"
   ]
  },
  {
   "cell_type": "code",
   "execution_count": 21,
   "id": "9be4bec6",
   "metadata": {},
   "outputs": [],
   "source": [
    "# converting columns to appropriate Data Types\n",
    "df['release_date']= pd.to_datetime(df['release_date'])\n",
    "df['last_updated_date']= pd.to_datetime(df['last_updated_date'])\n",
    "df['rating_count'] = df['rating_count'].astype(int)\n",
    " \n",
    "# creating month and year columns\n",
    "df['released_year'] = df['release_date'].dt.year\n",
    "df['released_month'] = df['release_date'].dt.month_name()"
   ]
  },
  {
   "cell_type": "markdown",
   "id": "f1fb3ce8",
   "metadata": {},
   "source": [
    "### **Exploratary Data Analysis**"
   ]
  },
  {
   "cell_type": "markdown",
   "id": "f37ab780",
   "metadata": {},
   "source": [
    "> ##### **🔹Calculating App Count based on year & month**"
   ]
  },
  {
   "cell_type": "code",
   "execution_count": 65,
   "id": "95454cb5",
   "metadata": {},
   "outputs": [
    {
     "data": {
      "text/html": [
       "<div>\n",
       "<style scoped>\n",
       "    .dataframe tbody tr th:only-of-type {\n",
       "        vertical-align: middle;\n",
       "    }\n",
       "\n",
       "    .dataframe tbody tr th {\n",
       "        vertical-align: top;\n",
       "    }\n",
       "\n",
       "    .dataframe thead th {\n",
       "        text-align: right;\n",
       "    }\n",
       "</style>\n",
       "<table border=\"1\" class=\"dataframe\">\n",
       "  <thead>\n",
       "    <tr style=\"text-align: right;\">\n",
       "      <th></th>\n",
       "      <th>released_year</th>\n",
       "      <th>app_count</th>\n",
       "    </tr>\n",
       "  </thead>\n",
       "  <tbody>\n",
       "    <tr>\n",
       "      <th>0</th>\n",
       "      <td>2010</td>\n",
       "      <td>1554</td>\n",
       "    </tr>\n",
       "    <tr>\n",
       "      <th>1</th>\n",
       "      <td>2011</td>\n",
       "      <td>4936</td>\n",
       "    </tr>\n",
       "    <tr>\n",
       "      <th>2</th>\n",
       "      <td>2012</td>\n",
       "      <td>8798</td>\n",
       "    </tr>\n",
       "    <tr>\n",
       "      <th>3</th>\n",
       "      <td>2013</td>\n",
       "      <td>14571</td>\n",
       "    </tr>\n",
       "    <tr>\n",
       "      <th>4</th>\n",
       "      <td>2014</td>\n",
       "      <td>24558</td>\n",
       "    </tr>\n",
       "    <tr>\n",
       "      <th>5</th>\n",
       "      <td>2015</td>\n",
       "      <td>39997</td>\n",
       "    </tr>\n",
       "    <tr>\n",
       "      <th>6</th>\n",
       "      <td>2016</td>\n",
       "      <td>58107</td>\n",
       "    </tr>\n",
       "    <tr>\n",
       "      <th>7</th>\n",
       "      <td>2017</td>\n",
       "      <td>90084</td>\n",
       "    </tr>\n",
       "    <tr>\n",
       "      <th>8</th>\n",
       "      <td>2018</td>\n",
       "      <td>115563</td>\n",
       "    </tr>\n",
       "    <tr>\n",
       "      <th>9</th>\n",
       "      <td>2019</td>\n",
       "      <td>166148</td>\n",
       "    </tr>\n",
       "    <tr>\n",
       "      <th>10</th>\n",
       "      <td>2020</td>\n",
       "      <td>189026</td>\n",
       "    </tr>\n",
       "    <tr>\n",
       "      <th>11</th>\n",
       "      <td>2021</td>\n",
       "      <td>62215</td>\n",
       "    </tr>\n",
       "  </tbody>\n",
       "</table>\n",
       "</div>"
      ],
      "text/plain": [
       "    released_year  app_count\n",
       "0            2010       1554\n",
       "1            2011       4936\n",
       "2            2012       8798\n",
       "3            2013      14571\n",
       "4            2014      24558\n",
       "5            2015      39997\n",
       "6            2016      58107\n",
       "7            2017      90084\n",
       "8            2018     115563\n",
       "9            2019     166148\n",
       "10           2020     189026\n",
       "11           2021      62215"
      ]
     },
     "metadata": {},
     "output_type": "display_data"
    }
   ],
   "source": [
    "# Apps Released Each Year\n",
    "year_data = ( df.groupby('released_year')\n",
    "    .size()\n",
    "    .reset_index(name='app_count')\n",
    "    .reset_index(drop=True) \n",
    "    )\n",
    "\n",
    "display(year_data)"
   ]
  },
  {
   "cell_type": "code",
   "execution_count": 66,
   "id": "ef0558c9",
   "metadata": {},
   "outputs": [
    {
     "data": {
      "image/png": "[encoded data removed]",
      "text/plain": [
       "<Figure size 600x400 with 1 Axes>"
      ]
     },
     "metadata": {},
     "output_type": "display_data"
    }
   ],
   "source": [
    "# plot Apps Released Each Year\n",
    "plt.figure(figsize=(6,4))\n",
    "plt.plot(year_data['released_year'], year_data['app_count'], marker='o',color='green')\n",
    "\n",
    "plt.title('Apps Released Each Year',fontweight='bold')\n",
    "plt.xlabel('Year',fontweight='bold')\n",
    "plt.ylabel('Number of Apps',fontweight='bold')\n",
    "plt.grid(True)\n",
    "plt.xticks(ticks=year_data['released_year'],rotation=45)\n",
    "plt.yticks()\n",
    "plt.show()"
   ]
  },
  {
   "cell_type": "code",
   "execution_count": 67,
   "id": "1bc6e356",
   "metadata": {},
   "outputs": [
    {
     "data": {
      "text/html": [
       "<div>\n",
       "<style scoped>\n",
       "    .dataframe tbody tr th:only-of-type {\n",
       "        vertical-align: middle;\n",
       "    }\n",
       "\n",
       "    .dataframe tbody tr th {\n",
       "        vertical-align: top;\n",
       "    }\n",
       "\n",
       "    .dataframe thead th {\n",
       "        text-align: right;\n",
       "    }\n",
       "</style>\n",
       "<table border=\"1\" class=\"dataframe\">\n",
       "  <thead>\n",
       "    <tr style=\"text-align: right;\">\n",
       "      <th></th>\n",
       "      <th>released_month</th>\n",
       "      <th>app_count</th>\n",
       "    </tr>\n",
       "  </thead>\n",
       "  <tbody>\n",
       "    <tr>\n",
       "      <th>0</th>\n",
       "      <td>January</td>\n",
       "      <td>64645</td>\n",
       "    </tr>\n",
       "    <tr>\n",
       "      <th>1</th>\n",
       "      <td>February</td>\n",
       "      <td>62837</td>\n",
       "    </tr>\n",
       "    <tr>\n",
       "      <th>2</th>\n",
       "      <td>March</td>\n",
       "      <td>69901</td>\n",
       "    </tr>\n",
       "    <tr>\n",
       "      <th>3</th>\n",
       "      <td>April</td>\n",
       "      <td>67578</td>\n",
       "    </tr>\n",
       "    <tr>\n",
       "      <th>4</th>\n",
       "      <td>May</td>\n",
       "      <td>71059</td>\n",
       "    </tr>\n",
       "    <tr>\n",
       "      <th>5</th>\n",
       "      <td>June</td>\n",
       "      <td>63673</td>\n",
       "    </tr>\n",
       "    <tr>\n",
       "      <th>6</th>\n",
       "      <td>July</td>\n",
       "      <td>62491</td>\n",
       "    </tr>\n",
       "    <tr>\n",
       "      <th>7</th>\n",
       "      <td>August</td>\n",
       "      <td>61086</td>\n",
       "    </tr>\n",
       "    <tr>\n",
       "      <th>8</th>\n",
       "      <td>September</td>\n",
       "      <td>62309</td>\n",
       "    </tr>\n",
       "    <tr>\n",
       "      <th>9</th>\n",
       "      <td>October</td>\n",
       "      <td>64831</td>\n",
       "    </tr>\n",
       "    <tr>\n",
       "      <th>10</th>\n",
       "      <td>November</td>\n",
       "      <td>62191</td>\n",
       "    </tr>\n",
       "    <tr>\n",
       "      <th>11</th>\n",
       "      <td>December</td>\n",
       "      <td>62956</td>\n",
       "    </tr>\n",
       "  </tbody>\n",
       "</table>\n",
       "</div>"
      ],
      "text/plain": [
       "   released_month  app_count\n",
       "0         January      64645\n",
       "1        February      62837\n",
       "2           March      69901\n",
       "3           April      67578\n",
       "4             May      71059\n",
       "5            June      63673\n",
       "6            July      62491\n",
       "7          August      61086\n",
       "8       September      62309\n",
       "9         October      64831\n",
       "10       November      62191\n",
       "11       December      62956"
      ]
     },
     "metadata": {},
     "output_type": "display_data"
    }
   ],
   "source": [
    "# Apps Released Each Month\n",
    "month_data = ( \n",
    "    df.groupby('released_month')\n",
    "    .size() \n",
    "    .reset_index(name='app_count')\n",
    "    .sort_values(by='app_count', ascending=False)\n",
    "    .assign(released_month=lambda x: pd.Categorical(x['released_month'], categories=month_names, ordered=True))\n",
    "    .sort_values(by='released_month')\n",
    "    .reset_index(drop=True)\n",
    "    )\n",
    "display(month_data)"
   ]
  },
  {
   "cell_type": "code",
   "execution_count": 68,
   "id": "c9a66d06",
   "metadata": {},
   "outputs": [
    {
     "data": {
      "image/png": "[encoded data removed]",
      "text/plain": [
       "<Figure size 600x400 with 1 Axes>"
      ]
     },
     "metadata": {},
     "output_type": "display_data"
    }
   ],
   "source": [
    "# creating month_names to short by exact month order\n",
    "month_names = ['January', 'February', 'March', 'April', 'May', 'June', \n",
    "              'July', 'August', 'September', 'October', 'November', 'December']\n",
    "\n",
    "# Plot of Apps Released Each Month\n",
    "plt.figure(figsize=(6, 4))\n",
    "plt.plot(month_data['released_month'], month_data['app_count'], marker='o', color='green')\n",
    "\n",
    "plt.xlabel('Released Month', fontweight='bold')\n",
    "plt.ylabel('Number of Apps Released', fontweight='bold')\n",
    "plt.title('Apps Released Each Month', fontweight='bold')\n",
    "plt.xticks(rotation=80)\n",
    "plt.grid(True)\n",
    "plt.show()"
   ]
  },
  {
   "cell_type": "markdown",
   "id": "3ddac38b",
   "metadata": {},
   "source": [
    "**Insights-** \n",
    "- *App Releases is increasing over the years, sudden decline in 2021, Becasuse of Covid-19 Pendemic*\n",
    "- *Most App released in May, March, April. Best time for launching new apps* "
   ]
  },
  {
   "cell_type": "markdown",
   "id": "bcc10617",
   "metadata": {},
   "source": [
    "> ##### **🔹Finding maximum installs by category & year**"
   ]
  },
  {
   "cell_type": "code",
   "execution_count": 69,
   "id": "ba09ae13",
   "metadata": {},
   "outputs": [
    {
     "data": {
      "text/html": [
       "<div>\n",
       "<style scoped>\n",
       "    .dataframe tbody tr th:only-of-type {\n",
       "        vertical-align: middle;\n",
       "    }\n",
       "\n",
       "    .dataframe tbody tr th {\n",
       "        vertical-align: top;\n",
       "    }\n",
       "\n",
       "    .dataframe thead th {\n",
       "        text-align: right;\n",
       "    }\n",
       "</style>\n",
       "<table border=\"1\" class=\"dataframe\">\n",
       "  <thead>\n",
       "    <tr style=\"text-align: right;\">\n",
       "      <th></th>\n",
       "      <th>category</th>\n",
       "      <th>max_downloads</th>\n",
       "    </tr>\n",
       "  </thead>\n",
       "  <tbody>\n",
       "    <tr>\n",
       "      <th>0</th>\n",
       "      <td>Tools</td>\n",
       "      <td>25404914125</td>\n",
       "    </tr>\n",
       "    <tr>\n",
       "      <th>1</th>\n",
       "      <td>Communication</td>\n",
       "      <td>19695859644</td>\n",
       "    </tr>\n",
       "    <tr>\n",
       "      <th>2</th>\n",
       "      <td>Action</td>\n",
       "      <td>12311635092</td>\n",
       "    </tr>\n",
       "    <tr>\n",
       "      <th>3</th>\n",
       "      <td>Productivity</td>\n",
       "      <td>11716321900</td>\n",
       "    </tr>\n",
       "    <tr>\n",
       "      <th>4</th>\n",
       "      <td>Video Players &amp; Editors</td>\n",
       "      <td>11098965646</td>\n",
       "    </tr>\n",
       "    <tr>\n",
       "      <th>5</th>\n",
       "      <td>Casual</td>\n",
       "      <td>10939380887</td>\n",
       "    </tr>\n",
       "    <tr>\n",
       "      <th>6</th>\n",
       "      <td>Entertainment</td>\n",
       "      <td>10249684262</td>\n",
       "    </tr>\n",
       "    <tr>\n",
       "      <th>7</th>\n",
       "      <td>Arcade</td>\n",
       "      <td>10243662364</td>\n",
       "    </tr>\n",
       "    <tr>\n",
       "      <th>8</th>\n",
       "      <td>Photography</td>\n",
       "      <td>9327649130</td>\n",
       "    </tr>\n",
       "    <tr>\n",
       "      <th>9</th>\n",
       "      <td>Social</td>\n",
       "      <td>8187412913</td>\n",
       "    </tr>\n",
       "  </tbody>\n",
       "</table>\n",
       "</div>"
      ],
      "text/plain": [
       "                  category  max_downloads\n",
       "0                    Tools    25404914125\n",
       "1            Communication    19695859644\n",
       "2                   Action    12311635092\n",
       "3             Productivity    11716321900\n",
       "4  Video Players & Editors    11098965646\n",
       "5                   Casual    10939380887\n",
       "6            Entertainment    10249684262\n",
       "7                   Arcade    10243662364\n",
       "8              Photography     9327649130\n",
       "9                   Social     8187412913"
      ]
     },
     "metadata": {},
     "output_type": "display_data"
    }
   ],
   "source": [
    "# Finding maximum installs by category\n",
    "top_category = (df.groupby('category')['maximum_installs']\n",
    "    .sum()\n",
    "    .reset_index(name='max_downloads')\n",
    "    .sort_values(by='max_downloads', ascending=False)\n",
    "    .reset_index(drop=True) \n",
    "    .head(10))\n",
    "\n",
    "display(top_category) # showing data"
   ]
  },
  {
   "cell_type": "code",
   "execution_count": 85,
   "id": "11470041",
   "metadata": {},
   "outputs": [
    {
     "data": {
      "image/png": "[encoded data removed]",
      "text/plain": [
       "<Figure size 800x400 with 1 Axes>"
      ]
     },
     "metadata": {},
     "output_type": "display_data"
    }
   ],
   "source": [
    "# Plot of top-10 installs by category\n",
    "plt.figure(figsize=(8,4)) \n",
    "plt.bar(top_category['category'],top_category['max_downloads'])\n",
    "plt.title('Top-10 Category based on Installs', fontweight='bold')\n",
    "plt.xlabel('Category\\n (on y axis 2.5 = 25 Billion)', fontweight='bold')\n",
    "plt.ylabel('Total Downloads', fontweight='bold')\n",
    "plt.xticks(rotation=80)\n",
    "plt.grid(axis='y', alpha=0.5)\n",
    "plt.show()"
   ]
  },
  {
   "cell_type": "code",
   "execution_count": 81,
   "id": "6cac87d1",
   "metadata": {},
   "outputs": [
    {
     "data": {
      "text/html": [
       "<div>\n",
       "<style scoped>\n",
       "    .dataframe tbody tr th:only-of-type {\n",
       "        vertical-align: middle;\n",
       "    }\n",
       "\n",
       "    .dataframe tbody tr th {\n",
       "        vertical-align: top;\n",
       "    }\n",
       "\n",
       "    .dataframe thead th {\n",
       "        text-align: right;\n",
       "    }\n",
       "</style>\n",
       "<table border=\"1\" class=\"dataframe\">\n",
       "  <thead>\n",
       "    <tr style=\"text-align: right;\">\n",
       "      <th></th>\n",
       "      <th>released_year</th>\n",
       "      <th>max_downloads</th>\n",
       "    </tr>\n",
       "  </thead>\n",
       "  <tbody>\n",
       "    <tr>\n",
       "      <th>0</th>\n",
       "      <td>2010</td>\n",
       "      <td>21655796706</td>\n",
       "    </tr>\n",
       "    <tr>\n",
       "      <th>1</th>\n",
       "      <td>2011</td>\n",
       "      <td>16887667193</td>\n",
       "    </tr>\n",
       "    <tr>\n",
       "      <th>2</th>\n",
       "      <td>2012</td>\n",
       "      <td>22186397199</td>\n",
       "    </tr>\n",
       "    <tr>\n",
       "      <th>3</th>\n",
       "      <td>2013</td>\n",
       "      <td>16707100158</td>\n",
       "    </tr>\n",
       "    <tr>\n",
       "      <th>4</th>\n",
       "      <td>2014</td>\n",
       "      <td>20861369697</td>\n",
       "    </tr>\n",
       "    <tr>\n",
       "      <th>5</th>\n",
       "      <td>2015</td>\n",
       "      <td>21912024167</td>\n",
       "    </tr>\n",
       "    <tr>\n",
       "      <th>6</th>\n",
       "      <td>2016</td>\n",
       "      <td>20356851586</td>\n",
       "    </tr>\n",
       "    <tr>\n",
       "      <th>7</th>\n",
       "      <td>2017</td>\n",
       "      <td>29894476170</td>\n",
       "    </tr>\n",
       "    <tr>\n",
       "      <th>8</th>\n",
       "      <td>2018</td>\n",
       "      <td>22677938000</td>\n",
       "    </tr>\n",
       "    <tr>\n",
       "      <th>9</th>\n",
       "      <td>2019</td>\n",
       "      <td>16678100807</td>\n",
       "    </tr>\n",
       "    <tr>\n",
       "      <th>10</th>\n",
       "      <td>2020</td>\n",
       "      <td>11554858445</td>\n",
       "    </tr>\n",
       "    <tr>\n",
       "      <th>11</th>\n",
       "      <td>2021</td>\n",
       "      <td>1500114278</td>\n",
       "    </tr>\n",
       "  </tbody>\n",
       "</table>\n",
       "</div>"
      ],
      "text/plain": [
       "    released_year  max_downloads\n",
       "0            2010    21655796706\n",
       "1            2011    16887667193\n",
       "2            2012    22186397199\n",
       "3            2013    16707100158\n",
       "4            2014    20861369697\n",
       "5            2015    21912024167\n",
       "6            2016    20356851586\n",
       "7            2017    29894476170\n",
       "8            2018    22677938000\n",
       "9            2019    16678100807\n",
       "10           2020    11554858445\n",
       "11           2021     1500114278"
      ]
     },
     "metadata": {},
     "output_type": "display_data"
    }
   ],
   "source": [
    "# Installs based on Year\n",
    "apps_by_year = (df.groupby('released_year')['maximum_installs']\n",
    "    .sum()\n",
    "    .reset_index(name='max_downloads')\n",
    "    .reset_index(drop=True) \n",
    ")\n",
    "\n",
    "display(apps_by_year)"
   ]
  },
  {
   "cell_type": "code",
   "execution_count": 87,
   "id": "b3a22adb",
   "metadata": {},
   "outputs": [
    {
     "data": {
      "image/png": "[encoded data removed]",
      "text/plain": [
       "<Figure size 600x400 with 1 Axes>"
      ]
     },
     "metadata": {},
     "output_type": "display_data"
    }
   ],
   "source": [
    "# plot of Installs based on Year\n",
    "plt.figure(figsize=(6,4), facecolor='ghostwhite')\n",
    "plt.plot(apps_by_year['released_year'],apps_by_year['max_downloads'],color='g', marker='o')\n",
    "\n",
    "plt.title('Installs based on Year', fontweight='bold')\n",
    "plt.xlabel('Year\\n (on y axis 2.5 = 25 Billion)', fontweight='bold')\n",
    "plt.ylabel('Total Downloads', fontweight='bold')\n",
    "plt.grid(True)\n",
    "plt.show()"
   ]
  },
  {
   "cell_type": "markdown",
   "id": "f852f4e5",
   "metadata": {},
   "source": [
    "**Insights-**\n",
    "- *Number of Download were peaked in 2016 to 2018, and dropped after 2018*"
   ]
  },
  {
   "cell_type": "markdown",
   "id": "90a1c75b",
   "metadata": {},
   "source": [
    "> ##### **🔹Calculating Average ratings based on categories**"
   ]
  },
  {
   "cell_type": "code",
   "execution_count": 24,
   "id": "4b4647aa",
   "metadata": {},
   "outputs": [
    {
     "data": {
      "text/html": [
       "<div>\n",
       "<style scoped>\n",
       "    .dataframe tbody tr th:only-of-type {\n",
       "        vertical-align: middle;\n",
       "    }\n",
       "\n",
       "    .dataframe tbody tr th {\n",
       "        vertical-align: top;\n",
       "    }\n",
       "\n",
       "    .dataframe thead th {\n",
       "        text-align: right;\n",
       "    }\n",
       "</style>\n",
       "<table border=\"1\" class=\"dataframe\">\n",
       "  <thead>\n",
       "    <tr style=\"text-align: right;\">\n",
       "      <th></th>\n",
       "      <th>category</th>\n",
       "      <th>avg_ratings</th>\n",
       "    </tr>\n",
       "  </thead>\n",
       "  <tbody>\n",
       "    <tr>\n",
       "      <th>0</th>\n",
       "      <td>Role Playing</td>\n",
       "      <td>3.4</td>\n",
       "    </tr>\n",
       "    <tr>\n",
       "      <th>1</th>\n",
       "      <td>Casino</td>\n",
       "      <td>3.3</td>\n",
       "    </tr>\n",
       "    <tr>\n",
       "      <th>2</th>\n",
       "      <td>Simulation</td>\n",
       "      <td>3.2</td>\n",
       "    </tr>\n",
       "    <tr>\n",
       "      <th>3</th>\n",
       "      <td>Weather</td>\n",
       "      <td>3.2</td>\n",
       "    </tr>\n",
       "    <tr>\n",
       "      <th>4</th>\n",
       "      <td>Card</td>\n",
       "      <td>3.1</td>\n",
       "    </tr>\n",
       "    <tr>\n",
       "      <th>5</th>\n",
       "      <td>Racing</td>\n",
       "      <td>3.0</td>\n",
       "    </tr>\n",
       "    <tr>\n",
       "      <th>6</th>\n",
       "      <td>Video Players &amp; Editors</td>\n",
       "      <td>2.9</td>\n",
       "    </tr>\n",
       "    <tr>\n",
       "      <th>7</th>\n",
       "      <td>Word</td>\n",
       "      <td>2.9</td>\n",
       "    </tr>\n",
       "    <tr>\n",
       "      <th>8</th>\n",
       "      <td>Strategy</td>\n",
       "      <td>2.9</td>\n",
       "    </tr>\n",
       "    <tr>\n",
       "      <th>9</th>\n",
       "      <td>Adventure</td>\n",
       "      <td>2.8</td>\n",
       "    </tr>\n",
       "    <tr>\n",
       "      <th>10</th>\n",
       "      <td>Comics</td>\n",
       "      <td>2.8</td>\n",
       "    </tr>\n",
       "    <tr>\n",
       "      <th>11</th>\n",
       "      <td>Board</td>\n",
       "      <td>2.8</td>\n",
       "    </tr>\n",
       "    <tr>\n",
       "      <th>12</th>\n",
       "      <td>Personalization</td>\n",
       "      <td>2.8</td>\n",
       "    </tr>\n",
       "    <tr>\n",
       "      <th>13</th>\n",
       "      <td>Music</td>\n",
       "      <td>2.7</td>\n",
       "    </tr>\n",
       "    <tr>\n",
       "      <th>14</th>\n",
       "      <td>Puzzle</td>\n",
       "      <td>2.7</td>\n",
       "    </tr>\n",
       "    <tr>\n",
       "      <th>15</th>\n",
       "      <td>Action</td>\n",
       "      <td>2.7</td>\n",
       "    </tr>\n",
       "    <tr>\n",
       "      <th>16</th>\n",
       "      <td>Photography</td>\n",
       "      <td>2.5</td>\n",
       "    </tr>\n",
       "    <tr>\n",
       "      <th>17</th>\n",
       "      <td>Dating</td>\n",
       "      <td>2.5</td>\n",
       "    </tr>\n",
       "    <tr>\n",
       "      <th>18</th>\n",
       "      <td>Books &amp; Reference</td>\n",
       "      <td>2.5</td>\n",
       "    </tr>\n",
       "    <tr>\n",
       "      <th>19</th>\n",
       "      <td>Trivia</td>\n",
       "      <td>2.5</td>\n",
       "    </tr>\n",
       "    <tr>\n",
       "      <th>20</th>\n",
       "      <td>News &amp; Magazines</td>\n",
       "      <td>2.5</td>\n",
       "    </tr>\n",
       "    <tr>\n",
       "      <th>21</th>\n",
       "      <td>Parenting</td>\n",
       "      <td>2.4</td>\n",
       "    </tr>\n",
       "    <tr>\n",
       "      <th>22</th>\n",
       "      <td>Entertainment</td>\n",
       "      <td>2.4</td>\n",
       "    </tr>\n",
       "    <tr>\n",
       "      <th>23</th>\n",
       "      <td>Educational</td>\n",
       "      <td>2.4</td>\n",
       "    </tr>\n",
       "    <tr>\n",
       "      <th>24</th>\n",
       "      <td>Social</td>\n",
       "      <td>2.4</td>\n",
       "    </tr>\n",
       "    <tr>\n",
       "      <th>25</th>\n",
       "      <td>Arcade</td>\n",
       "      <td>2.4</td>\n",
       "    </tr>\n",
       "    <tr>\n",
       "      <th>26</th>\n",
       "      <td>Casual</td>\n",
       "      <td>2.4</td>\n",
       "    </tr>\n",
       "    <tr>\n",
       "      <th>27</th>\n",
       "      <td>Finance</td>\n",
       "      <td>2.4</td>\n",
       "    </tr>\n",
       "    <tr>\n",
       "      <th>28</th>\n",
       "      <td>Tools</td>\n",
       "      <td>2.4</td>\n",
       "    </tr>\n",
       "    <tr>\n",
       "      <th>29</th>\n",
       "      <td>Sports</td>\n",
       "      <td>2.3</td>\n",
       "    </tr>\n",
       "    <tr>\n",
       "      <th>30</th>\n",
       "      <td>Education</td>\n",
       "      <td>2.2</td>\n",
       "    </tr>\n",
       "    <tr>\n",
       "      <th>31</th>\n",
       "      <td>Music &amp; Audio</td>\n",
       "      <td>2.2</td>\n",
       "    </tr>\n",
       "    <tr>\n",
       "      <th>32</th>\n",
       "      <td>Maps &amp; Navigation</td>\n",
       "      <td>2.2</td>\n",
       "    </tr>\n",
       "    <tr>\n",
       "      <th>33</th>\n",
       "      <td>Communication</td>\n",
       "      <td>2.1</td>\n",
       "    </tr>\n",
       "    <tr>\n",
       "      <th>34</th>\n",
       "      <td>Libraries &amp; Demo</td>\n",
       "      <td>2.1</td>\n",
       "    </tr>\n",
       "    <tr>\n",
       "      <th>35</th>\n",
       "      <td>Auto &amp; Vehicles</td>\n",
       "      <td>2.0</td>\n",
       "    </tr>\n",
       "    <tr>\n",
       "      <th>36</th>\n",
       "      <td>Art &amp; Design</td>\n",
       "      <td>2.0</td>\n",
       "    </tr>\n",
       "    <tr>\n",
       "      <th>37</th>\n",
       "      <td>Productivity</td>\n",
       "      <td>1.9</td>\n",
       "    </tr>\n",
       "    <tr>\n",
       "      <th>38</th>\n",
       "      <td>Travel &amp; Local</td>\n",
       "      <td>1.9</td>\n",
       "    </tr>\n",
       "    <tr>\n",
       "      <th>39</th>\n",
       "      <td>Lifestyle</td>\n",
       "      <td>1.9</td>\n",
       "    </tr>\n",
       "    <tr>\n",
       "      <th>40</th>\n",
       "      <td>Shopping</td>\n",
       "      <td>1.8</td>\n",
       "    </tr>\n",
       "    <tr>\n",
       "      <th>41</th>\n",
       "      <td>Medical</td>\n",
       "      <td>1.8</td>\n",
       "    </tr>\n",
       "    <tr>\n",
       "      <th>42</th>\n",
       "      <td>Health &amp; Fitness</td>\n",
       "      <td>1.6</td>\n",
       "    </tr>\n",
       "    <tr>\n",
       "      <th>43</th>\n",
       "      <td>House &amp; Home</td>\n",
       "      <td>1.5</td>\n",
       "    </tr>\n",
       "    <tr>\n",
       "      <th>44</th>\n",
       "      <td>Beauty</td>\n",
       "      <td>1.5</td>\n",
       "    </tr>\n",
       "    <tr>\n",
       "      <th>45</th>\n",
       "      <td>Business</td>\n",
       "      <td>1.4</td>\n",
       "    </tr>\n",
       "    <tr>\n",
       "      <th>46</th>\n",
       "      <td>Food &amp; Drink</td>\n",
       "      <td>1.3</td>\n",
       "    </tr>\n",
       "    <tr>\n",
       "      <th>47</th>\n",
       "      <td>Events</td>\n",
       "      <td>1.2</td>\n",
       "    </tr>\n",
       "  </tbody>\n",
       "</table>\n",
       "</div>"
      ],
      "text/plain": [
       "                   category  avg_ratings\n",
       "0              Role Playing          3.4\n",
       "1                    Casino          3.3\n",
       "2                Simulation          3.2\n",
       "3                   Weather          3.2\n",
       "4                      Card          3.1\n",
       "5                    Racing          3.0\n",
       "6   Video Players & Editors          2.9\n",
       "7                      Word          2.9\n",
       "8                  Strategy          2.9\n",
       "9                 Adventure          2.8\n",
       "10                   Comics          2.8\n",
       "11                    Board          2.8\n",
       "12          Personalization          2.8\n",
       "13                    Music          2.7\n",
       "14                   Puzzle          2.7\n",
       "15                   Action          2.7\n",
       "16              Photography          2.5\n",
       "17                   Dating          2.5\n",
       "18        Books & Reference          2.5\n",
       "19                   Trivia          2.5\n",
       "20         News & Magazines          2.5\n",
       "21                Parenting          2.4\n",
       "22            Entertainment          2.4\n",
       "23              Educational          2.4\n",
       "24                   Social          2.4\n",
       "25                   Arcade          2.4\n",
       "26                   Casual          2.4\n",
       "27                  Finance          2.4\n",
       "28                    Tools          2.4\n",
       "29                   Sports          2.3\n",
       "30                Education          2.2\n",
       "31            Music & Audio          2.2\n",
       "32        Maps & Navigation          2.2\n",
       "33            Communication          2.1\n",
       "34         Libraries & Demo          2.1\n",
       "35          Auto & Vehicles          2.0\n",
       "36             Art & Design          2.0\n",
       "37             Productivity          1.9\n",
       "38           Travel & Local          1.9\n",
       "39                Lifestyle          1.9\n",
       "40                 Shopping          1.8\n",
       "41                  Medical          1.8\n",
       "42         Health & Fitness          1.6\n",
       "43             House & Home          1.5\n",
       "44                   Beauty          1.5\n",
       "45                 Business          1.4\n",
       "46             Food & Drink          1.3\n",
       "47                   Events          1.2"
      ]
     },
     "metadata": {},
     "output_type": "display_data"
    }
   ],
   "source": [
    "# Avg rating of all categories\n",
    "ratings_data = round(df.groupby('category')['rating']\n",
    "    .mean()\n",
    "    .reset_index(name='avg_ratings')\n",
    "    .sort_values(by='avg_ratings',ascending=False)\n",
    "    .reset_index(drop=True)\n",
    "    ,1) # rounding to 2 decimal places\n",
    "\n",
    "display(ratings_data)"
   ]
  },
  {
   "cell_type": "markdown",
   "id": "5cab9411",
   "metadata": {},
   "source": [
    ">##### **🔹Highest Rated Apps - Rating count**"
   ]
  },
  {
   "cell_type": "code",
   "execution_count": 57,
   "id": "57893eca",
   "metadata": {},
   "outputs": [
    {
     "data": {
      "text/html": [
       "<div>\n",
       "<style scoped>\n",
       "    .dataframe tbody tr th:only-of-type {\n",
       "        vertical-align: middle;\n",
       "    }\n",
       "\n",
       "    .dataframe tbody tr th {\n",
       "        vertical-align: top;\n",
       "    }\n",
       "\n",
       "    .dataframe thead th {\n",
       "        text-align: right;\n",
       "    }\n",
       "</style>\n",
       "<table border=\"1\" class=\"dataframe\">\n",
       "  <thead>\n",
       "    <tr style=\"text-align: right;\">\n",
       "      <th></th>\n",
       "      <th>app_name</th>\n",
       "      <th>rating</th>\n",
       "      <th>rating_count</th>\n",
       "    </tr>\n",
       "  </thead>\n",
       "  <tbody>\n",
       "    <tr>\n",
       "      <th>0</th>\n",
       "      <td>WhatsApp Messenger</td>\n",
       "      <td>4.0</td>\n",
       "      <td>138557570</td>\n",
       "    </tr>\n",
       "    <tr>\n",
       "      <th>1</th>\n",
       "      <td>Instagram</td>\n",
       "      <td>3.8</td>\n",
       "      <td>120206190</td>\n",
       "    </tr>\n",
       "    <tr>\n",
       "      <th>2</th>\n",
       "      <td>Garena Free Fire - Rampage</td>\n",
       "      <td>4.2</td>\n",
       "      <td>89177097</td>\n",
       "    </tr>\n",
       "    <tr>\n",
       "      <th>3</th>\n",
       "      <td>Clash of Clans</td>\n",
       "      <td>4.5</td>\n",
       "      <td>56025424</td>\n",
       "    </tr>\n",
       "    <tr>\n",
       "      <th>4</th>\n",
       "      <td>PUBG MOBILE - Traverse</td>\n",
       "      <td>4.3</td>\n",
       "      <td>37479011</td>\n",
       "    </tr>\n",
       "    <tr>\n",
       "      <th>5</th>\n",
       "      <td>TikTok</td>\n",
       "      <td>4.4</td>\n",
       "      <td>36446381</td>\n",
       "    </tr>\n",
       "    <tr>\n",
       "      <th>6</th>\n",
       "      <td>Candy Crush Saga</td>\n",
       "      <td>4.6</td>\n",
       "      <td>31476637</td>\n",
       "    </tr>\n",
       "    <tr>\n",
       "      <th>7</th>\n",
       "      <td>Roblox</td>\n",
       "      <td>4.4</td>\n",
       "      <td>22148032</td>\n",
       "    </tr>\n",
       "    <tr>\n",
       "      <th>8</th>\n",
       "      <td>SHAREit - Transfer &amp; Share</td>\n",
       "      <td>4.2</td>\n",
       "      <td>16023749</td>\n",
       "    </tr>\n",
       "    <tr>\n",
       "      <th>9</th>\n",
       "      <td>Truecaller: ID &amp; spam block</td>\n",
       "      <td>4.5</td>\n",
       "      <td>15171424</td>\n",
       "    </tr>\n",
       "  </tbody>\n",
       "</table>\n",
       "</div>"
      ],
      "text/plain": [
       "                      app_name  rating  rating_count\n",
       "0           WhatsApp Messenger     4.0     138557570\n",
       "1                    Instagram     3.8     120206190\n",
       "2   Garena Free Fire - Rampage     4.2      89177097\n",
       "3               Clash of Clans     4.5      56025424\n",
       "4       PUBG MOBILE - Traverse     4.3      37479011\n",
       "5                       TikTok     4.4      36446381\n",
       "6             Candy Crush Saga     4.6      31476637\n",
       "7                       Roblox     4.4      22148032\n",
       "8   SHAREit - Transfer & Share     4.2      16023749\n",
       "9  Truecaller: ID & spam block     4.5      15171424"
      ]
     },
     "execution_count": 57,
     "metadata": {},
     "output_type": "execute_result"
    }
   ],
   "source": [
    "( \n",
    "df[['app_name', 'rating', 'rating_count']]\n",
    ".sort_values(by=['rating_count'],ascending=False)\n",
    ".reset_index(drop=True)\n",
    ".head(10)\n",
    ")"
   ]
  },
  {
   "cell_type": "markdown",
   "id": "d48e4969",
   "metadata": {},
   "source": [
    "> ##### **🔹Calculating average ratings and total installs based on Editor's Choice**"
   ]
  },
  {
   "cell_type": "code",
   "execution_count": 26,
   "id": "37406dfb",
   "metadata": {},
   "outputs": [
    {
     "data": {
      "text/html": [
       "<div>\n",
       "<style scoped>\n",
       "    .dataframe tbody tr th:only-of-type {\n",
       "        vertical-align: middle;\n",
       "    }\n",
       "\n",
       "    .dataframe tbody tr th {\n",
       "        vertical-align: top;\n",
       "    }\n",
       "\n",
       "    .dataframe thead th {\n",
       "        text-align: right;\n",
       "    }\n",
       "</style>\n",
       "<table border=\"1\" class=\"dataframe\">\n",
       "  <thead>\n",
       "    <tr style=\"text-align: right;\">\n",
       "      <th></th>\n",
       "      <th>editors_choice</th>\n",
       "      <th>avg_rating</th>\n",
       "      <th>total_installs</th>\n",
       "    </tr>\n",
       "  </thead>\n",
       "  <tbody>\n",
       "    <tr>\n",
       "      <th>0</th>\n",
       "      <td>No</td>\n",
       "      <td>2.2</td>\n",
       "      <td>193633490849</td>\n",
       "    </tr>\n",
       "    <tr>\n",
       "      <th>1</th>\n",
       "      <td>Yes</td>\n",
       "      <td>4.3</td>\n",
       "      <td>29239203557</td>\n",
       "    </tr>\n",
       "  </tbody>\n",
       "</table>\n",
       "</div>"
      ],
      "text/plain": [
       "  editors_choice  avg_rating  total_installs\n",
       "0             No         2.2    193633490849\n",
       "1            Yes         4.3     29239203557"
      ]
     },
     "metadata": {},
     "output_type": "display_data"
    }
   ],
   "source": [
    "result = (df.groupby('editors_choice')\n",
    "    .agg(\n",
    "    avg_rating=('rating', lambda x: round(x.mean(), 1)), # taking average of ratings\n",
    "    total_installs=('maximum_installs', 'sum')\n",
    "    )\n",
    "    .reset_index(names='editors_choice')\n",
    ")\n",
    "\n",
    "result['editors_choice'] = result['editors_choice'].map({True: 'Yes', False: 'No'}) # mapping for changing names\n",
    "display(result)"
   ]
  },
  {
   "cell_type": "markdown",
   "id": "6049906b",
   "metadata": {},
   "source": [
    "**Insight-**\n",
    "- *Apps with Editor's Choice have higher ratings and installs, it means Editor's Choice is a good indicator of app quality*"
   ]
  },
  {
   "cell_type": "markdown",
   "id": "186e7450",
   "metadata": {},
   "source": [
    ">##### **🔹Calculating Installs of Free & Paid Apps**"
   ]
  },
  {
   "cell_type": "code",
   "execution_count": 27,
   "id": "dd53ecf7",
   "metadata": {},
   "outputs": [
    {
     "data": {
      "text/html": [
       "<div>\n",
       "<style scoped>\n",
       "    .dataframe tbody tr th:only-of-type {\n",
       "        vertical-align: middle;\n",
       "    }\n",
       "\n",
       "    .dataframe tbody tr th {\n",
       "        vertical-align: top;\n",
       "    }\n",
       "\n",
       "    .dataframe thead th {\n",
       "        text-align: right;\n",
       "    }\n",
       "</style>\n",
       "<table border=\"1\" class=\"dataframe\">\n",
       "  <thead>\n",
       "    <tr style=\"text-align: right;\">\n",
       "      <th></th>\n",
       "      <th>Type</th>\n",
       "      <th>Total Installs</th>\n",
       "    </tr>\n",
       "  </thead>\n",
       "  <tbody>\n",
       "    <tr>\n",
       "      <th>0</th>\n",
       "      <td>Free</td>\n",
       "      <td>222599593250</td>\n",
       "    </tr>\n",
       "    <tr>\n",
       "      <th>1</th>\n",
       "      <td>Paid</td>\n",
       "      <td>273101156</td>\n",
       "    </tr>\n",
       "  </tbody>\n",
       "</table>\n",
       "</div>"
      ],
      "text/plain": [
       "   Type  Total Installs\n",
       "0  Free    222599593250\n",
       "1  Paid       273101156"
      ]
     },
     "metadata": {},
     "output_type": "display_data"
    }
   ],
   "source": [
    "total_installs_by_app_type = (   \n",
    "                              \n",
    "    df.groupby(df['is_free']\n",
    "    .map({True: 'Free', False: 'Paid'}))['maximum_installs']\n",
    "    .sum()\n",
    "    .rename_axis('Type')\n",
    "    .reset_index(name='Total Installs')\n",
    ")\n",
    "\n",
    "display(total_installs_by_app_type)"
   ]
  },
  {
   "cell_type": "markdown",
   "id": "efac2932",
   "metadata": {},
   "source": [
    "**Insight-**\n",
    "- *Free apps have higher insatlls, mean users prefer free apps*"
   ]
  },
  {
   "cell_type": "markdown",
   "id": "1e0da334",
   "metadata": {},
   "source": [
    ">##### **🔹Highest no. Of Paid Apps based on category**"
   ]
  },
  {
   "cell_type": "code",
   "execution_count": 59,
   "id": "89052d74",
   "metadata": {},
   "outputs": [
    {
     "data": {
      "text/html": [
       "<div>\n",
       "<style scoped>\n",
       "    .dataframe tbody tr th:only-of-type {\n",
       "        vertical-align: middle;\n",
       "    }\n",
       "\n",
       "    .dataframe tbody tr th {\n",
       "        vertical-align: top;\n",
       "    }\n",
       "\n",
       "    .dataframe thead th {\n",
       "        text-align: right;\n",
       "    }\n",
       "</style>\n",
       "<table border=\"1\" class=\"dataframe\">\n",
       "  <thead>\n",
       "    <tr style=\"text-align: right;\">\n",
       "      <th></th>\n",
       "      <th>category</th>\n",
       "      <th>number_of_paid_apps</th>\n",
       "      <th>avg_price_usd</th>\n",
       "    </tr>\n",
       "  </thead>\n",
       "  <tbody>\n",
       "    <tr>\n",
       "      <th>0</th>\n",
       "      <td>Education</td>\n",
       "      <td>2212</td>\n",
       "      <td>5.59</td>\n",
       "    </tr>\n",
       "    <tr>\n",
       "      <th>1</th>\n",
       "      <td>Personalization</td>\n",
       "      <td>2025</td>\n",
       "      <td>1.81</td>\n",
       "    </tr>\n",
       "    <tr>\n",
       "      <th>2</th>\n",
       "      <td>Tools</td>\n",
       "      <td>1357</td>\n",
       "      <td>4.84</td>\n",
       "    </tr>\n",
       "    <tr>\n",
       "      <th>3</th>\n",
       "      <td>Books &amp; Reference</td>\n",
       "      <td>1245</td>\n",
       "      <td>6.48</td>\n",
       "    </tr>\n",
       "    <tr>\n",
       "      <th>4</th>\n",
       "      <td>Productivity</td>\n",
       "      <td>576</td>\n",
       "      <td>6.92</td>\n",
       "    </tr>\n",
       "    <tr>\n",
       "      <th>5</th>\n",
       "      <td>Music &amp; Audio</td>\n",
       "      <td>528</td>\n",
       "      <td>4.03</td>\n",
       "    </tr>\n",
       "    <tr>\n",
       "      <th>6</th>\n",
       "      <td>Travel &amp; Local</td>\n",
       "      <td>483</td>\n",
       "      <td>3.51</td>\n",
       "    </tr>\n",
       "    <tr>\n",
       "      <th>7</th>\n",
       "      <td>Sports</td>\n",
       "      <td>477</td>\n",
       "      <td>7.82</td>\n",
       "    </tr>\n",
       "    <tr>\n",
       "      <th>8</th>\n",
       "      <td>Health &amp; Fitness</td>\n",
       "      <td>472</td>\n",
       "      <td>6.58</td>\n",
       "    </tr>\n",
       "    <tr>\n",
       "      <th>9</th>\n",
       "      <td>Medical</td>\n",
       "      <td>462</td>\n",
       "      <td>14.83</td>\n",
       "    </tr>\n",
       "  </tbody>\n",
       "</table>\n",
       "</div>"
      ],
      "text/plain": [
       "            category  number_of_paid_apps  avg_price_usd\n",
       "0          Education                 2212           5.59\n",
       "1    Personalization                 2025           1.81\n",
       "2              Tools                 1357           4.84\n",
       "3  Books & Reference                 1245           6.48\n",
       "4       Productivity                  576           6.92\n",
       "5      Music & Audio                  528           4.03\n",
       "6     Travel & Local                  483           3.51\n",
       "7             Sports                  477           7.82\n",
       "8   Health & Fitness                  472           6.58\n",
       "9            Medical                  462          14.83"
      ]
     },
     "metadata": {},
     "output_type": "display_data"
    }
   ],
   "source": [
    "# changing every currency into us doller\n",
    "currency_to_usd = {  \n",
    "    'BRL': 0.18,\n",
    "    'CAD': 0.73,\n",
    "    'EUR': 1.08,\n",
    "    'GBP': 1.27,       # Define exchange rates to USD\n",
    "    'INR': 0.012,\n",
    "    'KRW': 0.00074,\n",
    "    'USD': 1.0,\n",
    "    'VND': 0.000039,\n",
    "    'XXX': 0.0  # or np.nan\n",
    "}\n",
    "\n",
    "# Creating new column for price in USD\n",
    "df['price_usd'] = df['price'] * df['currency'].map(currency_to_usd) # using mapping\n",
    "\n",
    "\n",
    "# Finding the highest number of paid apps based on category and average price\n",
    "highest_paid_apps = (\n",
    "    \n",
    "    df[df['is_free'] == False]  # filtering paid apps\n",
    "    .groupby('category')\n",
    "    .agg(\n",
    "        number_of_paid_apps=('app_name', 'size'),\n",
    "        avg_price_usd=('price_usd', lambda x: round(x.mean(), 2))\n",
    "        )\n",
    "    .reset_index(names='category')\n",
    "    .sort_values(by='number_of_paid_apps', ascending=False)\n",
    "    .head(10)\n",
    "    .reset_index(drop=True)\n",
    ")\n",
    "\n",
    "display(highest_paid_apps)"
   ]
  },
  {
   "cell_type": "markdown",
   "id": "9e80cc8b",
   "metadata": {},
   "source": [
    ">##### **🔹Calculating in_app_purchases Apps are mostly free?**"
   ]
  },
  {
   "cell_type": "code",
   "execution_count": 88,
   "id": "25979a92",
   "metadata": {},
   "outputs": [
    {
     "data": {
      "text/html": [
       "<div>\n",
       "<style scoped>\n",
       "    .dataframe tbody tr th:only-of-type {\n",
       "        vertical-align: middle;\n",
       "    }\n",
       "\n",
       "    .dataframe tbody tr th {\n",
       "        vertical-align: top;\n",
       "    }\n",
       "\n",
       "    .dataframe thead th {\n",
       "        text-align: right;\n",
       "    }\n",
       "</style>\n",
       "<table border=\"1\" class=\"dataframe\">\n",
       "  <thead>\n",
       "    <tr style=\"text-align: right;\">\n",
       "      <th></th>\n",
       "      <th>is_free</th>\n",
       "      <th>Percentage (%)</th>\n",
       "    </tr>\n",
       "  </thead>\n",
       "  <tbody>\n",
       "    <tr>\n",
       "      <th>0</th>\n",
       "      <td>Yes</td>\n",
       "      <td>98.02</td>\n",
       "    </tr>\n",
       "    <tr>\n",
       "      <th>1</th>\n",
       "      <td>No</td>\n",
       "      <td>1.98</td>\n",
       "    </tr>\n",
       "  </tbody>\n",
       "</table>\n",
       "</div>"
      ],
      "text/plain": [
       "  is_free  Percentage (%)\n",
       "0     Yes           98.02\n",
       "1      No            1.98"
      ]
     },
     "metadata": {},
     "output_type": "display_data"
    }
   ],
   "source": [
    "# Check how many apps are free\n",
    "inapp_percentage = df['is_free'].value_counts(normalize=True)*100 # `normalize=True` gives percentage proportion\n",
    "\n",
    "inapp_final = inapp_percentage.rename(index={True : 'Yes', False: 'No'}).reset_index(name='Percentage (%)').round(2)\n",
    "\n",
    "display(inapp_final)"
   ]
  },
  {
   "cell_type": "code",
   "execution_count": 94,
   "id": "2a98f01b",
   "metadata": {},
   "outputs": [
    {
     "data": {
      "image/png": "[encoded data removed]",
      "text/plain": [
       "<Figure size 400x400 with 1 Axes>"
      ]
     },
     "metadata": {},
     "output_type": "display_data"
    }
   ],
   "source": [
    "# plot\n",
    "plt.figure(figsize=(4,4))\n",
    "plt.pie(inapp_final['Percentage (%)'], labels=inapp_final['is_free'], autopct='%1.1f%%', startangle=140, colors=[\"#228806\", \"#C1002D\"])\n",
    "\n",
    "plt.title('in_app_purchases Apps are mostly free?', fontweight='bold')\n",
    "plt.axis('equal')  # Equal aspect ratio ensures that pie chart is circular.\n",
    "plt.show()"
   ]
  },
  {
   "cell_type": "markdown",
   "id": "b261a1c2",
   "metadata": {},
   "source": [
    "> ##### **🔹Analysing App Size Trend by year**"
   ]
  },
  {
   "cell_type": "code",
   "execution_count": 95,
   "id": "d0123dd8",
   "metadata": {},
   "outputs": [
    {
     "data": {
      "text/html": [
       "<div>\n",
       "<style scoped>\n",
       "    .dataframe tbody tr th:only-of-type {\n",
       "        vertical-align: middle;\n",
       "    }\n",
       "\n",
       "    .dataframe tbody tr th {\n",
       "        vertical-align: top;\n",
       "    }\n",
       "\n",
       "    .dataframe thead th {\n",
       "        text-align: right;\n",
       "    }\n",
       "</style>\n",
       "<table border=\"1\" class=\"dataframe\">\n",
       "  <thead>\n",
       "    <tr style=\"text-align: right;\">\n",
       "      <th></th>\n",
       "      <th>released_year</th>\n",
       "      <th>avg_size(mb)</th>\n",
       "    </tr>\n",
       "  </thead>\n",
       "  <tbody>\n",
       "    <tr>\n",
       "      <th>0</th>\n",
       "      <td>2010</td>\n",
       "      <td>12.47</td>\n",
       "    </tr>\n",
       "    <tr>\n",
       "      <th>1</th>\n",
       "      <td>2011</td>\n",
       "      <td>12.05</td>\n",
       "    </tr>\n",
       "    <tr>\n",
       "      <th>2</th>\n",
       "      <td>2012</td>\n",
       "      <td>13.76</td>\n",
       "    </tr>\n",
       "    <tr>\n",
       "      <th>3</th>\n",
       "      <td>2013</td>\n",
       "      <td>15.06</td>\n",
       "    </tr>\n",
       "    <tr>\n",
       "      <th>4</th>\n",
       "      <td>2014</td>\n",
       "      <td>14.42</td>\n",
       "    </tr>\n",
       "    <tr>\n",
       "      <th>5</th>\n",
       "      <td>2015</td>\n",
       "      <td>14.83</td>\n",
       "    </tr>\n",
       "    <tr>\n",
       "      <th>6</th>\n",
       "      <td>2016</td>\n",
       "      <td>16.45</td>\n",
       "    </tr>\n",
       "    <tr>\n",
       "      <th>7</th>\n",
       "      <td>2017</td>\n",
       "      <td>16.86</td>\n",
       "    </tr>\n",
       "    <tr>\n",
       "      <th>8</th>\n",
       "      <td>2018</td>\n",
       "      <td>17.06</td>\n",
       "    </tr>\n",
       "    <tr>\n",
       "      <th>9</th>\n",
       "      <td>2019</td>\n",
       "      <td>18.20</td>\n",
       "    </tr>\n",
       "    <tr>\n",
       "      <th>10</th>\n",
       "      <td>2020</td>\n",
       "      <td>21.70</td>\n",
       "    </tr>\n",
       "    <tr>\n",
       "      <th>11</th>\n",
       "      <td>2021</td>\n",
       "      <td>25.35</td>\n",
       "    </tr>\n",
       "  </tbody>\n",
       "</table>\n",
       "</div>"
      ],
      "text/plain": [
       "    released_year  avg_size(mb)\n",
       "0            2010         12.47\n",
       "1            2011         12.05\n",
       "2            2012         13.76\n",
       "3            2013         15.06\n",
       "4            2014         14.42\n",
       "5            2015         14.83\n",
       "6            2016         16.45\n",
       "7            2017         16.86\n",
       "8            2018         17.06\n",
       "9            2019         18.20\n",
       "10           2020         21.70\n",
       "11           2021         25.35"
      ]
     },
     "metadata": {},
     "output_type": "display_data"
    }
   ],
   "source": [
    "app_size_by_year = df.groupby('released_year')['app_size_mb'].mean().reset_index(name='avg_size(mb)').round(2)\n",
    "\n",
    "display(app_size_by_year)"
   ]
  },
  {
   "cell_type": "code",
   "execution_count": 96,
   "id": "411b27dc",
   "metadata": {},
   "outputs": [
    {
     "data": {
      "image/png": "[encoded data removed]",
      "text/plain": [
       "<Figure size 800x400 with 1 Axes>"
      ]
     },
     "metadata": {},
     "output_type": "display_data"
    }
   ],
   "source": [
    "# plot\n",
    "plt.figure(figsize=(8,4))\n",
    "plt.plot(app_size_by_year['released_year'], app_size_by_year['avg_size(mb)'], marker='o', color='g')\n",
    "\n",
    "plt.title('App Size year by year', fontweight='bold')\n",
    "plt.xlabel('Released Year', fontweight='bold')\n",
    "plt.ylabel('Avg Size(mb)', fontweight='bold')\n",
    "plt.xticks(ticks=app_size_by_year['released_year'],rotation=45) # explicitly setting x labels\n",
    "plt.grid(True)\n",
    "plt.show()\n"
   ]
  },
  {
   "cell_type": "markdown",
   "id": "652a9800",
   "metadata": {},
   "source": [
    "> ##### **🔹Total no. of Installs `ad_supported` & `in_app_purchases`**"
   ]
  },
  {
   "cell_type": "code",
   "execution_count": 60,
   "id": "7a07ddb2",
   "metadata": {},
   "outputs": [
    {
     "name": "stdout",
     "output_type": "stream",
     "text": [
      "            Feature  Total Installs\n",
      "0      Ad Supported    140729868339\n",
      "1  In-App Purchases    104363238421\n"
     ]
    }
   ],
   "source": [
    "ad_total = df[df['ad_supported']==True]['maximum_installs'].sum()\n",
    "iap_total = df[df['in_app_purchases']==True]['maximum_installs'].sum()\n",
    "\n",
    "summary = pd.DataFrame({\n",
    "    'Feature': ['Ad Supported', 'In-App Purchases'],\n",
    "    'Total Installs': [ad_total, iap_total]\n",
    "})\n",
    "\n",
    "print(summary)\n",
    "\n"
   ]
  },
  {
   "cell_type": "markdown",
   "id": "f33c3986",
   "metadata": {},
   "source": [
    "**Insights-**\n",
    "- *Most apps are free and ad-supported, but users may prefer in-app purchases.*"
   ]
  },
  {
   "cell_type": "markdown",
   "id": "d1f1f7c4",
   "metadata": {},
   "source": [
    "> ##### **🔹Content Rating Trend (Everyone, Teen, Adults only 18+)**"
   ]
  },
  {
   "cell_type": "code",
   "execution_count": 100,
   "id": "794055bc",
   "metadata": {},
   "outputs": [
    {
     "data": {
      "text/html": [
       "<div>\n",
       "<style scoped>\n",
       "    .dataframe tbody tr th:only-of-type {\n",
       "        vertical-align: middle;\n",
       "    }\n",
       "\n",
       "    .dataframe tbody tr th {\n",
       "        vertical-align: top;\n",
       "    }\n",
       "\n",
       "    .dataframe thead th {\n",
       "        text-align: right;\n",
       "    }\n",
       "</style>\n",
       "<table border=\"1\" class=\"dataframe\">\n",
       "  <thead>\n",
       "    <tr style=\"text-align: right;\">\n",
       "      <th></th>\n",
       "      <th>age_limit</th>\n",
       "      <th>total_install</th>\n",
       "      <th>rating_distribution</th>\n",
       "      <th>avg_rating</th>\n",
       "    </tr>\n",
       "  </thead>\n",
       "  <tbody>\n",
       "    <tr>\n",
       "      <th>0</th>\n",
       "      <td>Everyone</td>\n",
       "      <td>151723534708</td>\n",
       "      <td>678089</td>\n",
       "      <td>2.18</td>\n",
       "    </tr>\n",
       "    <tr>\n",
       "      <th>1</th>\n",
       "      <td>Teen</td>\n",
       "      <td>47435505827</td>\n",
       "      <td>65908</td>\n",
       "      <td>2.33</td>\n",
       "    </tr>\n",
       "    <tr>\n",
       "      <th>2</th>\n",
       "      <td>Everyone 10+</td>\n",
       "      <td>16125092855</td>\n",
       "      <td>11291</td>\n",
       "      <td>2.66</td>\n",
       "    </tr>\n",
       "    <tr>\n",
       "      <th>3</th>\n",
       "      <td>Mature 17+</td>\n",
       "      <td>7574229338</td>\n",
       "      <td>20178</td>\n",
       "      <td>2.48</td>\n",
       "    </tr>\n",
       "    <tr>\n",
       "      <th>4</th>\n",
       "      <td>Adults only 18+</td>\n",
       "      <td>12186026</td>\n",
       "      <td>41</td>\n",
       "      <td>2.38</td>\n",
       "    </tr>\n",
       "    <tr>\n",
       "      <th>5</th>\n",
       "      <td>Unrated</td>\n",
       "      <td>2145652</td>\n",
       "      <td>50</td>\n",
       "      <td>3.20</td>\n",
       "    </tr>\n",
       "  </tbody>\n",
       "</table>\n",
       "</div>"
      ],
      "text/plain": [
       "         age_limit  total_install  rating_distribution  avg_rating\n",
       "0         Everyone   151723534708               678089        2.18\n",
       "1             Teen    47435505827                65908        2.33\n",
       "2     Everyone 10+    16125092855                11291        2.66\n",
       "3       Mature 17+     7574229338                20178        2.48\n",
       "4  Adults only 18+       12186026                   41        2.38\n",
       "5          Unrated        2145652                   50        3.20"
      ]
     },
     "execution_count": 100,
     "metadata": {},
     "output_type": "execute_result"
    }
   ],
   "source": [
    "(\n",
    "df.groupby('age_limit')\n",
    ".agg(\n",
    "        total_install=('maximum_installs','sum'),\n",
    "        rating_distribution=('rating', 'count'),\n",
    "        avg_rating=('rating',lambda x: round(x.mean(),2))\n",
    "    )\n",
    ".sort_values(by=['total_install','rating_distribution'], ascending=False) \n",
    ".reset_index()\n",
    ")\n"
   ]
  },
  {
   "cell_type": "markdown",
   "id": "143ec8b6",
   "metadata": {},
   "source": [
    "### **Conclusion**"
   ]
  },
  {
   "cell_type": "markdown",
   "id": "a01c3e87",
   "metadata": {},
   "source": [
    "App Releases is increasing over the years, sudden decline in 2021, Becasuse of Covid-19 Pendemic*\n",
    "Most App released in May, March, April. Best time for launching new apps"
   ]
  },
  {
   "cell_type": "markdown",
   "id": "ec482ac0",
   "metadata": {},
   "source": []
  }
 ],
 "metadata": {
  "kernelspec": {
   "display_name": "base",
   "language": "python",
   "name": "python3"
  },
  "language_info": {
   "codemirror_mode": {
    "name": "ipython",
    "version": 3
   },
   "file_extension": ".py",
   "mimetype": "text/x-python",
   "name": "python",
   "nbconvert_exporter": "python",
   "pygments_lexer": "ipython3",
   "version": "3.12.7"
  }
 },
 "nbformat": 4,
 "nbformat_minor": 5
}
